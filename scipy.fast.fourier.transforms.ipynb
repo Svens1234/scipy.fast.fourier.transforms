{
 "cells": [
  {
   "cell_type": "code",
   "execution_count": 5,
   "id": "f7ee52a1",
   "metadata": {},
   "outputs": [],
   "source": [
    "from scipy.fft import fft, ifft\n",
    "import numpy as np"
   ]
  },
  {
   "cell_type": "code",
   "execution_count": 6,
   "id": "676b1521",
   "metadata": {},
   "outputs": [],
   "source": [
    "x = np.array([1.0, 2.0, 1.0, -1.0, 1.5])\n",
    "y = fft(x)"
   ]
  },
  {
   "cell_type": "code",
   "execution_count": 7,
   "id": "4c9b2c42",
   "metadata": {},
   "outputs": [
    {
     "data": {
      "text/plain": [
       "array([ 4.5       -0.j        ,  2.08155948-1.65109876j,\n",
       "       -1.83155948+1.60822041j, -1.83155948-1.60822041j,\n",
       "        2.08155948+1.65109876j])"
      ]
     },
     "execution_count": 7,
     "metadata": {},
     "output_type": "execute_result"
    }
   ],
   "source": [
    "y"
   ]
  },
  {
   "cell_type": "code",
   "execution_count": 8,
   "id": "c8a6565e",
   "metadata": {},
   "outputs": [],
   "source": [
    "yinv = ifft(y)"
   ]
  },
  {
   "cell_type": "code",
   "execution_count": 9,
   "id": "166201da",
   "metadata": {},
   "outputs": [
    {
     "data": {
      "text/plain": [
       "array([ 1. +0.j,  2. +0.j,  1. +0.j, -1. +0.j,  1.5+0.j])"
      ]
     },
     "execution_count": 9,
     "metadata": {},
     "output_type": "execute_result"
    }
   ],
   "source": [
    "yinv"
   ]
  },
  {
   "cell_type": "code",
   "execution_count": null,
   "id": "fa550502",
   "metadata": {},
   "outputs": [],
   "source": []
  }
 ],
 "metadata": {
  "kernelspec": {
   "display_name": "Python 3 (ipykernel)",
   "language": "python",
   "name": "python3"
  },
  "language_info": {
   "codemirror_mode": {
    "name": "ipython",
    "version": 3
   },
   "file_extension": ".py",
   "mimetype": "text/x-python",
   "name": "python",
   "nbconvert_exporter": "python",
   "pygments_lexer": "ipython3",
   "version": "3.10.5"
  }
 },
 "nbformat": 4,
 "nbformat_minor": 5
}
